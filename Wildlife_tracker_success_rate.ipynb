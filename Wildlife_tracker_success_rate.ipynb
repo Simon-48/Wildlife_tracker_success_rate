{
  "nbformat": 4,
  "nbformat_minor": 0,
  "metadata": {
    "colab": {
      "name": "Wildlife_tracker_success_rate.ipynb",
      "provenance": [],
      "collapsed_sections": []
    },
    "kernelspec": {
      "name": "python3",
      "display_name": "Python 3"
    },
    "language_info": {
      "name": "python"
    }
  },
  "cells": [
    {
      "cell_type": "markdown",
      "source": [
        "### This approach is used to predict the success rate of an application which will be used to monitor the trafficking of wild animals in Bangladesh. In order to determine whether a certain incident reported by any user would be successful or not, Supervised machine learning methods are utilized."
      ],
      "metadata": {
        "id": "v9T0DNm54dx3"
      }
    },
    {
      "cell_type": "code",
      "source": [
        "import numpy as np # linear algebra\n",
        "import pandas as pd # data processing \n",
        "import matplotlib.pyplot as plt\n",
        "import seaborn as sns\n",
        "import plotly.express as px\n",
        "\n",
        "%matplotlib inline"
      ],
      "metadata": {
        "id": "lED3libT4eOB"
      },
      "execution_count": 606,
      "outputs": []
    },
    {
      "cell_type": "code",
      "source": [
        "# Importing Dataset\n",
        "wildlife_tracker = pd.read_csv('/content/wildlife_tracker.csv')"
      ],
      "metadata": {
        "id": "eEUtRdJu4jQp"
      },
      "execution_count": 607,
      "outputs": []
    },
    {
      "cell_type": "markdown",
      "source": [
        "# Data Wrangling"
      ],
      "metadata": {
        "id": "IuGqQc2wiDWc"
      }
    },
    {
      "cell_type": "code",
      "source": [
        "# Visualizing top 5 rows from the Dataset\n",
        "wildlife_tracker.head()"
      ],
      "metadata": {
        "colab": {
          "base_uri": "https://localhost:8080/",
          "height": 337
        },
        "id": "2CfyFhB04rbN",
        "outputId": "6101d05f-4537-4518-ba94-2322932f025b"
      },
      "execution_count": 608,
      "outputs": [
        {
          "output_type": "execute_result",
          "data": {
            "text/plain": [
              "          animal_type         scientific_name  average_lifespan  \\\n",
              "0                 Dog  Canis Lupus Familiaris                13   \n",
              "1                 Cat             Felis Catus                16   \n",
              "2                Hawk                   Buteo                20   \n",
              "3  White-tailed Eagle    Haliaeetus Albicilla                20   \n",
              "4                 Fox           Vulpes Vulpes                 4   \n",
              "\n",
              "          request_time  request_udapte_time help_center_response_time  \\\n",
              "0  09-10-2010 03:59:12  09-10-2010 04:13:59       09-10-2010 04:30:59   \n",
              "1  09-10-2010 04:06:22  09-10-2010 04:06:22       09-10-2010 04:40:22   \n",
              "2  04-11-2010 22:40:13  21-06-2010 12:09:28       22-06-2010 12:09:28   \n",
              "3  21-06-2010 12:09:50  21-06-2010 12:09:50       21-06-2010 12:18:50   \n",
              "4  21-06-2010 12:10:08  21-06-2010 12:10:08       21-06-2010 12:40:08   \n",
              "\n",
              "     location                    route success  \n",
              "0       Dhaka    Bogra - Sariakandi Rd     yes  \n",
              "1  Chittagong             Uposhohor Rd     yes  \n",
              "2      Khulna                Gohail Rd      no  \n",
              "3      Bogura  Matidali - Dhorompur Rd     yes  \n",
              "4      Sylhet      Chondon - Baisha Rd     yes  "
            ],
            "text/html": [
              "\n",
              "  <div id=\"df-86738a84-2242-426b-a2cc-404debab5e30\">\n",
              "    <div class=\"colab-df-container\">\n",
              "      <div>\n",
              "<style scoped>\n",
              "    .dataframe tbody tr th:only-of-type {\n",
              "        vertical-align: middle;\n",
              "    }\n",
              "\n",
              "    .dataframe tbody tr th {\n",
              "        vertical-align: top;\n",
              "    }\n",
              "\n",
              "    .dataframe thead th {\n",
              "        text-align: right;\n",
              "    }\n",
              "</style>\n",
              "<table border=\"1\" class=\"dataframe\">\n",
              "  <thead>\n",
              "    <tr style=\"text-align: right;\">\n",
              "      <th></th>\n",
              "      <th>animal_type</th>\n",
              "      <th>scientific_name</th>\n",
              "      <th>average_lifespan</th>\n",
              "      <th>request_time</th>\n",
              "      <th>request_udapte_time</th>\n",
              "      <th>help_center_response_time</th>\n",
              "      <th>location</th>\n",
              "      <th>route</th>\n",
              "      <th>success</th>\n",
              "    </tr>\n",
              "  </thead>\n",
              "  <tbody>\n",
              "    <tr>\n",
              "      <th>0</th>\n",
              "      <td>Dog</td>\n",
              "      <td>Canis Lupus Familiaris</td>\n",
              "      <td>13</td>\n",
              "      <td>09-10-2010 03:59:12</td>\n",
              "      <td>09-10-2010 04:13:59</td>\n",
              "      <td>09-10-2010 04:30:59</td>\n",
              "      <td>Dhaka</td>\n",
              "      <td>Bogra - Sariakandi Rd</td>\n",
              "      <td>yes</td>\n",
              "    </tr>\n",
              "    <tr>\n",
              "      <th>1</th>\n",
              "      <td>Cat</td>\n",
              "      <td>Felis Catus</td>\n",
              "      <td>16</td>\n",
              "      <td>09-10-2010 04:06:22</td>\n",
              "      <td>09-10-2010 04:06:22</td>\n",
              "      <td>09-10-2010 04:40:22</td>\n",
              "      <td>Chittagong</td>\n",
              "      <td>Uposhohor Rd</td>\n",
              "      <td>yes</td>\n",
              "    </tr>\n",
              "    <tr>\n",
              "      <th>2</th>\n",
              "      <td>Hawk</td>\n",
              "      <td>Buteo</td>\n",
              "      <td>20</td>\n",
              "      <td>04-11-2010 22:40:13</td>\n",
              "      <td>21-06-2010 12:09:28</td>\n",
              "      <td>22-06-2010 12:09:28</td>\n",
              "      <td>Khulna</td>\n",
              "      <td>Gohail Rd</td>\n",
              "      <td>no</td>\n",
              "    </tr>\n",
              "    <tr>\n",
              "      <th>3</th>\n",
              "      <td>White-tailed Eagle</td>\n",
              "      <td>Haliaeetus Albicilla</td>\n",
              "      <td>20</td>\n",
              "      <td>21-06-2010 12:09:50</td>\n",
              "      <td>21-06-2010 12:09:50</td>\n",
              "      <td>21-06-2010 12:18:50</td>\n",
              "      <td>Bogura</td>\n",
              "      <td>Matidali - Dhorompur Rd</td>\n",
              "      <td>yes</td>\n",
              "    </tr>\n",
              "    <tr>\n",
              "      <th>4</th>\n",
              "      <td>Fox</td>\n",
              "      <td>Vulpes Vulpes</td>\n",
              "      <td>4</td>\n",
              "      <td>21-06-2010 12:10:08</td>\n",
              "      <td>21-06-2010 12:10:08</td>\n",
              "      <td>21-06-2010 12:40:08</td>\n",
              "      <td>Sylhet</td>\n",
              "      <td>Chondon - Baisha Rd</td>\n",
              "      <td>yes</td>\n",
              "    </tr>\n",
              "  </tbody>\n",
              "</table>\n",
              "</div>\n",
              "      <button class=\"colab-df-convert\" onclick=\"convertToInteractive('df-86738a84-2242-426b-a2cc-404debab5e30')\"\n",
              "              title=\"Convert this dataframe to an interactive table.\"\n",
              "              style=\"display:none;\">\n",
              "        \n",
              "  <svg xmlns=\"http://www.w3.org/2000/svg\" height=\"24px\"viewBox=\"0 0 24 24\"\n",
              "       width=\"24px\">\n",
              "    <path d=\"M0 0h24v24H0V0z\" fill=\"none\"/>\n",
              "    <path d=\"M18.56 5.44l.94 2.06.94-2.06 2.06-.94-2.06-.94-.94-2.06-.94 2.06-2.06.94zm-11 1L8.5 8.5l.94-2.06 2.06-.94-2.06-.94L8.5 2.5l-.94 2.06-2.06.94zm10 10l.94 2.06.94-2.06 2.06-.94-2.06-.94-.94-2.06-.94 2.06-2.06.94z\"/><path d=\"M17.41 7.96l-1.37-1.37c-.4-.4-.92-.59-1.43-.59-.52 0-1.04.2-1.43.59L10.3 9.45l-7.72 7.72c-.78.78-.78 2.05 0 2.83L4 21.41c.39.39.9.59 1.41.59.51 0 1.02-.2 1.41-.59l7.78-7.78 2.81-2.81c.8-.78.8-2.07 0-2.86zM5.41 20L4 18.59l7.72-7.72 1.47 1.35L5.41 20z\"/>\n",
              "  </svg>\n",
              "      </button>\n",
              "      \n",
              "  <style>\n",
              "    .colab-df-container {\n",
              "      display:flex;\n",
              "      flex-wrap:wrap;\n",
              "      gap: 12px;\n",
              "    }\n",
              "\n",
              "    .colab-df-convert {\n",
              "      background-color: #E8F0FE;\n",
              "      border: none;\n",
              "      border-radius: 50%;\n",
              "      cursor: pointer;\n",
              "      display: none;\n",
              "      fill: #1967D2;\n",
              "      height: 32px;\n",
              "      padding: 0 0 0 0;\n",
              "      width: 32px;\n",
              "    }\n",
              "\n",
              "    .colab-df-convert:hover {\n",
              "      background-color: #E2EBFA;\n",
              "      box-shadow: 0px 1px 2px rgba(60, 64, 67, 0.3), 0px 1px 3px 1px rgba(60, 64, 67, 0.15);\n",
              "      fill: #174EA6;\n",
              "    }\n",
              "\n",
              "    [theme=dark] .colab-df-convert {\n",
              "      background-color: #3B4455;\n",
              "      fill: #D2E3FC;\n",
              "    }\n",
              "\n",
              "    [theme=dark] .colab-df-convert:hover {\n",
              "      background-color: #434B5C;\n",
              "      box-shadow: 0px 1px 3px 1px rgba(0, 0, 0, 0.15);\n",
              "      filter: drop-shadow(0px 1px 2px rgba(0, 0, 0, 0.3));\n",
              "      fill: #FFFFFF;\n",
              "    }\n",
              "  </style>\n",
              "\n",
              "      <script>\n",
              "        const buttonEl =\n",
              "          document.querySelector('#df-86738a84-2242-426b-a2cc-404debab5e30 button.colab-df-convert');\n",
              "        buttonEl.style.display =\n",
              "          google.colab.kernel.accessAllowed ? 'block' : 'none';\n",
              "\n",
              "        async function convertToInteractive(key) {\n",
              "          const element = document.querySelector('#df-86738a84-2242-426b-a2cc-404debab5e30');\n",
              "          const dataTable =\n",
              "            await google.colab.kernel.invokeFunction('convertToInteractive',\n",
              "                                                     [key], {});\n",
              "          if (!dataTable) return;\n",
              "\n",
              "          const docLinkHtml = 'Like what you see? Visit the ' +\n",
              "            '<a target=\"_blank\" href=https://colab.research.google.com/notebooks/data_table.ipynb>data table notebook</a>'\n",
              "            + ' to learn more about interactive tables.';\n",
              "          element.innerHTML = '';\n",
              "          dataTable['output_type'] = 'display_data';\n",
              "          await google.colab.output.renderOutput(dataTable, element);\n",
              "          const docLink = document.createElement('div');\n",
              "          docLink.innerHTML = docLinkHtml;\n",
              "          element.appendChild(docLink);\n",
              "        }\n",
              "      </script>\n",
              "    </div>\n",
              "  </div>\n",
              "  "
            ]
          },
          "metadata": {},
          "execution_count": 608
        }
      ]
    },
    {
      "cell_type": "code",
      "source": [
        "# Size of the dataset\n",
        "print(f\"The Dataset to be classified has {wildlife_tracker.shape[0]} rows and {wildlife_tracker.shape[1]} columns.\")"
      ],
      "metadata": {
        "colab": {
          "base_uri": "https://localhost:8080/"
        },
        "id": "42rn4uVoYRcC",
        "outputId": "c001ca87-628c-44ef-caae-45f53ab892a0"
      },
      "execution_count": 609,
      "outputs": [
        {
          "output_type": "stream",
          "name": "stdout",
          "text": [
            "The Dataset to be classified has 50 rows and 9 columns.\n"
          ]
        }
      ]
    },
    {
      "cell_type": "code",
      "source": [
        "# Null Values\n",
        "wildlife_tracker.isnull().sum()"
      ],
      "metadata": {
        "colab": {
          "base_uri": "https://localhost:8080/"
        },
        "id": "gtc32Lvuhc2f",
        "outputId": "11c3301e-f9b4-49b6-f75e-201bdd2eb88b"
      },
      "execution_count": 610,
      "outputs": [
        {
          "output_type": "execute_result",
          "data": {
            "text/plain": [
              "animal_type                  0\n",
              "scientific_name              0\n",
              "average_lifespan             0\n",
              "request_time                 0\n",
              "request_udapte_time          0\n",
              "help_center_response_time    0\n",
              "location                     0\n",
              "route                        0\n",
              "success                      0\n",
              "dtype: int64"
            ]
          },
          "metadata": {},
          "execution_count": 610
        }
      ]
    },
    {
      "cell_type": "code",
      "source": [
        "# Dataset Info\n",
        "wildlife_tracker.info()"
      ],
      "metadata": {
        "colab": {
          "base_uri": "https://localhost:8080/"
        },
        "id": "VFgvFb_WhcFb",
        "outputId": "8553fd20-de81-41a7-d24a-2c5808a77572"
      },
      "execution_count": 611,
      "outputs": [
        {
          "output_type": "stream",
          "name": "stdout",
          "text": [
            "<class 'pandas.core.frame.DataFrame'>\n",
            "RangeIndex: 50 entries, 0 to 49\n",
            "Data columns (total 9 columns):\n",
            " #   Column                     Non-Null Count  Dtype \n",
            "---  ------                     --------------  ----- \n",
            " 0   animal_type                50 non-null     object\n",
            " 1   scientific_name            50 non-null     object\n",
            " 2   average_lifespan           50 non-null     int64 \n",
            " 3   request_time               50 non-null     object\n",
            " 4   request_udapte_time        50 non-null     object\n",
            " 5   help_center_response_time  50 non-null     object\n",
            " 6   location                   50 non-null     object\n",
            " 7   route                      50 non-null     object\n",
            " 8   success                    50 non-null     object\n",
            "dtypes: int64(1), object(8)\n",
            "memory usage: 3.6+ KB\n"
          ]
        }
      ]
    },
    {
      "cell_type": "code",
      "source": [
        "# Type Casting\n",
        "\n",
        "wildlife_tracker['animal_type']=wildlife_tracker['animal_type'].astype('category')\n",
        "wildlife_tracker['scientific_name']=wildlife_tracker['scientific_name'].astype('category')\n",
        "wildlife_tracker['location']=wildlife_tracker['location'].astype('category')\n",
        "wildlife_tracker['route']=wildlife_tracker['route'].astype('category')\n",
        "wildlife_tracker['success']=wildlife_tracker['success'].astype('category')"
      ],
      "metadata": {
        "id": "sYsqzUGUYRot"
      },
      "execution_count": 612,
      "outputs": []
    },
    {
      "cell_type": "code",
      "source": [
        "# Updated Dataset Info\n",
        "wildlife_tracker.info()"
      ],
      "metadata": {
        "colab": {
          "base_uri": "https://localhost:8080/"
        },
        "id": "DIfdP5_ghuaq",
        "outputId": "3160d248-5308-4bb5-89d7-bf12a9eebd4f"
      },
      "execution_count": 613,
      "outputs": [
        {
          "output_type": "stream",
          "name": "stdout",
          "text": [
            "<class 'pandas.core.frame.DataFrame'>\n",
            "RangeIndex: 50 entries, 0 to 49\n",
            "Data columns (total 9 columns):\n",
            " #   Column                     Non-Null Count  Dtype   \n",
            "---  ------                     --------------  -----   \n",
            " 0   animal_type                50 non-null     category\n",
            " 1   scientific_name            50 non-null     category\n",
            " 2   average_lifespan           50 non-null     int64   \n",
            " 3   request_time               50 non-null     object  \n",
            " 4   request_udapte_time        50 non-null     object  \n",
            " 5   help_center_response_time  50 non-null     object  \n",
            " 6   location                   50 non-null     category\n",
            " 7   route                      50 non-null     category\n",
            " 8   success                    50 non-null     category\n",
            "dtypes: category(5), int64(1), object(3)\n",
            "memory usage: 3.2+ KB\n"
          ]
        }
      ]
    },
    {
      "cell_type": "code",
      "source": [
        "# Identify duplication\n",
        "print(f\"Dataset Classify has {wildlife_tracker.duplicated().sum()} duplicate values.\")"
      ],
      "metadata": {
        "colab": {
          "base_uri": "https://localhost:8080/"
        },
        "id": "ETeDWdRnh1mV",
        "outputId": "979514e4-c4b9-478e-a2a5-e5a0bbf3d0c2"
      },
      "execution_count": 614,
      "outputs": [
        {
          "output_type": "stream",
          "name": "stdout",
          "text": [
            "Dataset Classify has 0 duplicate values.\n"
          ]
        }
      ]
    },
    {
      "cell_type": "markdown",
      "source": [
        "# Feature Engineering"
      ],
      "metadata": {
        "id": "gXB8DO4WiPI8"
      }
    },
    {
      "cell_type": "code",
      "source": [
        "# Converting to datetime datatype\n",
        "wildlife_tracker['request_time'] = pd.to_datetime(wildlife_tracker['request_time'])\n",
        "wildlife_tracker['request_udapte_time'] = pd.to_datetime(wildlife_tracker['request_udapte_time'])\n",
        "wildlife_tracker['help_center_response_time'] = pd.to_datetime(wildlife_tracker['help_center_response_time'])"
      ],
      "metadata": {
        "id": "OgAknhc6XIiE"
      },
      "execution_count": 615,
      "outputs": []
    },
    {
      "cell_type": "code",
      "source": [
        "# Creating year column to keep a record of the years when the help center took action for a particular case\n",
        "wildlife_tracker['year'] = wildlife_tracker['help_center_response_time'].dt.year"
      ],
      "metadata": {
        "id": "A2NXBfZaeXio"
      },
      "execution_count": 616,
      "outputs": []
    },
    {
      "cell_type": "code",
      "source": [
        "# Identify weekend \n",
        "wildlife_tracker['day_name'] = wildlife_tracker['help_center_response_time'].dt.day_name()\n",
        "wildlife_tracker['date_is_weekend'] = np.where(wildlife_tracker['day_name'].isin(['Friday', 'Saturday']), 1,0)\n",
        "wildlife_tracker = wildlife_tracker.drop(['day_name'], axis=1)"
      ],
      "metadata": {
        "id": "c9xNjhtee4Jp"
      },
      "execution_count": 617,
      "outputs": []
    },
    {
      "cell_type": "code",
      "source": [
        "# Type casting\n",
        "wildlife_tracker['date_is_weekend']=wildlife_tracker['date_is_weekend'].astype('category')"
      ],
      "metadata": {
        "id": "H5uD4zp0r6zZ"
      },
      "execution_count": 618,
      "outputs": []
    },
    {
      "cell_type": "code",
      "source": [
        "# Time difference between report and respond\n",
        "wildlife_tracker['response_time_difference'] = (wildlife_tracker['help_center_response_time']-wildlife_tracker['request_udapte_time'])/np.timedelta64(1,'h')"
      ],
      "metadata": {
        "id": "rU_GbDrsR3Sc"
      },
      "execution_count": 619,
      "outputs": []
    },
    {
      "cell_type": "code",
      "source": [
        "# Updated data\n",
        "wildlife_tracker.head()"
      ],
      "metadata": {
        "colab": {
          "base_uri": "https://localhost:8080/",
          "height": 392
        },
        "id": "Unzpjtxka1Op",
        "outputId": "ab585227-bf40-4205-f74a-6db44423bb91"
      },
      "execution_count": 620,
      "outputs": [
        {
          "output_type": "execute_result",
          "data": {
            "text/plain": [
              "          animal_type         scientific_name  average_lifespan  \\\n",
              "0                 Dog  Canis Lupus Familiaris                13   \n",
              "1                 Cat             Felis Catus                16   \n",
              "2                Hawk                   Buteo                20   \n",
              "3  White-tailed Eagle    Haliaeetus Albicilla                20   \n",
              "4                 Fox           Vulpes Vulpes                 4   \n",
              "\n",
              "         request_time request_udapte_time help_center_response_time  \\\n",
              "0 2010-09-10 03:59:12 2010-09-10 04:13:59       2010-09-10 04:30:59   \n",
              "1 2010-09-10 04:06:22 2010-09-10 04:06:22       2010-09-10 04:40:22   \n",
              "2 2010-04-11 22:40:13 2010-06-21 12:09:28       2010-06-22 12:09:28   \n",
              "3 2010-06-21 12:09:50 2010-06-21 12:09:50       2010-06-21 12:18:50   \n",
              "4 2010-06-21 12:10:08 2010-06-21 12:10:08       2010-06-21 12:40:08   \n",
              "\n",
              "     location                    route success  year date_is_weekend  \\\n",
              "0       Dhaka    Bogra - Sariakandi Rd     yes  2010               1   \n",
              "1  Chittagong             Uposhohor Rd     yes  2010               1   \n",
              "2      Khulna                Gohail Rd      no  2010               0   \n",
              "3      Bogura  Matidali - Dhorompur Rd     yes  2010               0   \n",
              "4      Sylhet      Chondon - Baisha Rd     yes  2010               0   \n",
              "\n",
              "   response_time_difference  \n",
              "0                  0.283333  \n",
              "1                  0.566667  \n",
              "2                 24.000000  \n",
              "3                  0.150000  \n",
              "4                  0.500000  "
            ],
            "text/html": [
              "\n",
              "  <div id=\"df-43955435-c3bb-4541-bd40-8c32fd04293a\">\n",
              "    <div class=\"colab-df-container\">\n",
              "      <div>\n",
              "<style scoped>\n",
              "    .dataframe tbody tr th:only-of-type {\n",
              "        vertical-align: middle;\n",
              "    }\n",
              "\n",
              "    .dataframe tbody tr th {\n",
              "        vertical-align: top;\n",
              "    }\n",
              "\n",
              "    .dataframe thead th {\n",
              "        text-align: right;\n",
              "    }\n",
              "</style>\n",
              "<table border=\"1\" class=\"dataframe\">\n",
              "  <thead>\n",
              "    <tr style=\"text-align: right;\">\n",
              "      <th></th>\n",
              "      <th>animal_type</th>\n",
              "      <th>scientific_name</th>\n",
              "      <th>average_lifespan</th>\n",
              "      <th>request_time</th>\n",
              "      <th>request_udapte_time</th>\n",
              "      <th>help_center_response_time</th>\n",
              "      <th>location</th>\n",
              "      <th>route</th>\n",
              "      <th>success</th>\n",
              "      <th>year</th>\n",
              "      <th>date_is_weekend</th>\n",
              "      <th>response_time_difference</th>\n",
              "    </tr>\n",
              "  </thead>\n",
              "  <tbody>\n",
              "    <tr>\n",
              "      <th>0</th>\n",
              "      <td>Dog</td>\n",
              "      <td>Canis Lupus Familiaris</td>\n",
              "      <td>13</td>\n",
              "      <td>2010-09-10 03:59:12</td>\n",
              "      <td>2010-09-10 04:13:59</td>\n",
              "      <td>2010-09-10 04:30:59</td>\n",
              "      <td>Dhaka</td>\n",
              "      <td>Bogra - Sariakandi Rd</td>\n",
              "      <td>yes</td>\n",
              "      <td>2010</td>\n",
              "      <td>1</td>\n",
              "      <td>0.283333</td>\n",
              "    </tr>\n",
              "    <tr>\n",
              "      <th>1</th>\n",
              "      <td>Cat</td>\n",
              "      <td>Felis Catus</td>\n",
              "      <td>16</td>\n",
              "      <td>2010-09-10 04:06:22</td>\n",
              "      <td>2010-09-10 04:06:22</td>\n",
              "      <td>2010-09-10 04:40:22</td>\n",
              "      <td>Chittagong</td>\n",
              "      <td>Uposhohor Rd</td>\n",
              "      <td>yes</td>\n",
              "      <td>2010</td>\n",
              "      <td>1</td>\n",
              "      <td>0.566667</td>\n",
              "    </tr>\n",
              "    <tr>\n",
              "      <th>2</th>\n",
              "      <td>Hawk</td>\n",
              "      <td>Buteo</td>\n",
              "      <td>20</td>\n",
              "      <td>2010-04-11 22:40:13</td>\n",
              "      <td>2010-06-21 12:09:28</td>\n",
              "      <td>2010-06-22 12:09:28</td>\n",
              "      <td>Khulna</td>\n",
              "      <td>Gohail Rd</td>\n",
              "      <td>no</td>\n",
              "      <td>2010</td>\n",
              "      <td>0</td>\n",
              "      <td>24.000000</td>\n",
              "    </tr>\n",
              "    <tr>\n",
              "      <th>3</th>\n",
              "      <td>White-tailed Eagle</td>\n",
              "      <td>Haliaeetus Albicilla</td>\n",
              "      <td>20</td>\n",
              "      <td>2010-06-21 12:09:50</td>\n",
              "      <td>2010-06-21 12:09:50</td>\n",
              "      <td>2010-06-21 12:18:50</td>\n",
              "      <td>Bogura</td>\n",
              "      <td>Matidali - Dhorompur Rd</td>\n",
              "      <td>yes</td>\n",
              "      <td>2010</td>\n",
              "      <td>0</td>\n",
              "      <td>0.150000</td>\n",
              "    </tr>\n",
              "    <tr>\n",
              "      <th>4</th>\n",
              "      <td>Fox</td>\n",
              "      <td>Vulpes Vulpes</td>\n",
              "      <td>4</td>\n",
              "      <td>2010-06-21 12:10:08</td>\n",
              "      <td>2010-06-21 12:10:08</td>\n",
              "      <td>2010-06-21 12:40:08</td>\n",
              "      <td>Sylhet</td>\n",
              "      <td>Chondon - Baisha Rd</td>\n",
              "      <td>yes</td>\n",
              "      <td>2010</td>\n",
              "      <td>0</td>\n",
              "      <td>0.500000</td>\n",
              "    </tr>\n",
              "  </tbody>\n",
              "</table>\n",
              "</div>\n",
              "      <button class=\"colab-df-convert\" onclick=\"convertToInteractive('df-43955435-c3bb-4541-bd40-8c32fd04293a')\"\n",
              "              title=\"Convert this dataframe to an interactive table.\"\n",
              "              style=\"display:none;\">\n",
              "        \n",
              "  <svg xmlns=\"http://www.w3.org/2000/svg\" height=\"24px\"viewBox=\"0 0 24 24\"\n",
              "       width=\"24px\">\n",
              "    <path d=\"M0 0h24v24H0V0z\" fill=\"none\"/>\n",
              "    <path d=\"M18.56 5.44l.94 2.06.94-2.06 2.06-.94-2.06-.94-.94-2.06-.94 2.06-2.06.94zm-11 1L8.5 8.5l.94-2.06 2.06-.94-2.06-.94L8.5 2.5l-.94 2.06-2.06.94zm10 10l.94 2.06.94-2.06 2.06-.94-2.06-.94-.94-2.06-.94 2.06-2.06.94z\"/><path d=\"M17.41 7.96l-1.37-1.37c-.4-.4-.92-.59-1.43-.59-.52 0-1.04.2-1.43.59L10.3 9.45l-7.72 7.72c-.78.78-.78 2.05 0 2.83L4 21.41c.39.39.9.59 1.41.59.51 0 1.02-.2 1.41-.59l7.78-7.78 2.81-2.81c.8-.78.8-2.07 0-2.86zM5.41 20L4 18.59l7.72-7.72 1.47 1.35L5.41 20z\"/>\n",
              "  </svg>\n",
              "      </button>\n",
              "      \n",
              "  <style>\n",
              "    .colab-df-container {\n",
              "      display:flex;\n",
              "      flex-wrap:wrap;\n",
              "      gap: 12px;\n",
              "    }\n",
              "\n",
              "    .colab-df-convert {\n",
              "      background-color: #E8F0FE;\n",
              "      border: none;\n",
              "      border-radius: 50%;\n",
              "      cursor: pointer;\n",
              "      display: none;\n",
              "      fill: #1967D2;\n",
              "      height: 32px;\n",
              "      padding: 0 0 0 0;\n",
              "      width: 32px;\n",
              "    }\n",
              "\n",
              "    .colab-df-convert:hover {\n",
              "      background-color: #E2EBFA;\n",
              "      box-shadow: 0px 1px 2px rgba(60, 64, 67, 0.3), 0px 1px 3px 1px rgba(60, 64, 67, 0.15);\n",
              "      fill: #174EA6;\n",
              "    }\n",
              "\n",
              "    [theme=dark] .colab-df-convert {\n",
              "      background-color: #3B4455;\n",
              "      fill: #D2E3FC;\n",
              "    }\n",
              "\n",
              "    [theme=dark] .colab-df-convert:hover {\n",
              "      background-color: #434B5C;\n",
              "      box-shadow: 0px 1px 3px 1px rgba(0, 0, 0, 0.15);\n",
              "      filter: drop-shadow(0px 1px 2px rgba(0, 0, 0, 0.3));\n",
              "      fill: #FFFFFF;\n",
              "    }\n",
              "  </style>\n",
              "\n",
              "      <script>\n",
              "        const buttonEl =\n",
              "          document.querySelector('#df-43955435-c3bb-4541-bd40-8c32fd04293a button.colab-df-convert');\n",
              "        buttonEl.style.display =\n",
              "          google.colab.kernel.accessAllowed ? 'block' : 'none';\n",
              "\n",
              "        async function convertToInteractive(key) {\n",
              "          const element = document.querySelector('#df-43955435-c3bb-4541-bd40-8c32fd04293a');\n",
              "          const dataTable =\n",
              "            await google.colab.kernel.invokeFunction('convertToInteractive',\n",
              "                                                     [key], {});\n",
              "          if (!dataTable) return;\n",
              "\n",
              "          const docLinkHtml = 'Like what you see? Visit the ' +\n",
              "            '<a target=\"_blank\" href=https://colab.research.google.com/notebooks/data_table.ipynb>data table notebook</a>'\n",
              "            + ' to learn more about interactive tables.';\n",
              "          element.innerHTML = '';\n",
              "          dataTable['output_type'] = 'display_data';\n",
              "          await google.colab.output.renderOutput(dataTable, element);\n",
              "          const docLink = document.createElement('div');\n",
              "          docLink.innerHTML = docLinkHtml;\n",
              "          element.appendChild(docLink);\n",
              "        }\n",
              "      </script>\n",
              "    </div>\n",
              "  </div>\n",
              "  "
            ]
          },
          "metadata": {},
          "execution_count": 620
        }
      ]
    },
    {
      "cell_type": "code",
      "source": [
        "# Updated info with datetime\n",
        "wildlife_tracker.info()"
      ],
      "metadata": {
        "colab": {
          "base_uri": "https://localhost:8080/"
        },
        "id": "Z33-Ikg4qzIH",
        "outputId": "c3a4fb29-fa09-4f42-b3b4-b49f30024b59"
      },
      "execution_count": 621,
      "outputs": [
        {
          "output_type": "stream",
          "name": "stdout",
          "text": [
            "<class 'pandas.core.frame.DataFrame'>\n",
            "RangeIndex: 50 entries, 0 to 49\n",
            "Data columns (total 12 columns):\n",
            " #   Column                     Non-Null Count  Dtype         \n",
            "---  ------                     --------------  -----         \n",
            " 0   animal_type                50 non-null     category      \n",
            " 1   scientific_name            50 non-null     category      \n",
            " 2   average_lifespan           50 non-null     int64         \n",
            " 3   request_time               50 non-null     datetime64[ns]\n",
            " 4   request_udapte_time        50 non-null     datetime64[ns]\n",
            " 5   help_center_response_time  50 non-null     datetime64[ns]\n",
            " 6   location                   50 non-null     category      \n",
            " 7   route                      50 non-null     category      \n",
            " 8   success                    50 non-null     category      \n",
            " 9   year                       50 non-null     int64         \n",
            " 10  date_is_weekend            50 non-null     category      \n",
            " 11  response_time_difference   50 non-null     float64       \n",
            "dtypes: category(6), datetime64[ns](3), float64(1), int64(2)\n",
            "memory usage: 4.1 KB\n"
          ]
        }
      ]
    },
    {
      "cell_type": "markdown",
      "source": [
        "# Exploratory Data Analysis (EDA)"
      ],
      "metadata": {
        "id": "KS9CzmFakvSz"
      }
    },
    {
      "cell_type": "markdown",
      "source": [
        "## Univariate Analysis\n",
        "### Categorical"
      ],
      "metadata": {
        "id": "F62y3rPpk5pl"
      }
    },
    {
      "cell_type": "code",
      "source": [
        "# Success rate\n",
        "\n",
        "plt.figure(figsize=(15,8))\n",
        "sns.countplot(wildlife_tracker['success'])"
      ],
      "metadata": {
        "colab": {
          "base_uri": "https://localhost:8080/",
          "height": 569
        },
        "id": "9RyHIyqPk8Ha",
        "outputId": "902e6c3e-367c-4d8e-822e-abe29925c942"
      },
      "execution_count": 622,
      "outputs": [
        {
          "output_type": "stream",
          "name": "stderr",
          "text": [
            "/usr/local/lib/python3.7/dist-packages/seaborn/_decorators.py:43: FutureWarning: Pass the following variable as a keyword arg: x. From version 0.12, the only valid positional argument will be `data`, and passing other arguments without an explicit keyword will result in an error or misinterpretation.\n",
            "  FutureWarning\n"
          ]
        },
        {
          "output_type": "execute_result",
          "data": {
            "text/plain": [
              "<matplotlib.axes._subplots.AxesSubplot at 0x7fecde2cd250>"
            ]
          },
          "metadata": {},
          "execution_count": 622
        },
        {
          "output_type": "display_data",
          "data": {
            "text/plain": [
              "<Figure size 1080x576 with 1 Axes>"
            ],
            "image/png": "[encoded data removed]"
          },
          "metadata": {
            "needs_background": "light"
          }
        }
      ]
    },
    {
      "cell_type": "markdown",
      "source": [
        "## Multivariate Analysis\n",
        "### Categorical"
      ],
      "metadata": {
        "id": "L78GuGGwmBvG"
      }
    },
    {
      "cell_type": "code",
      "source": [
        "# Year hue on success rates\n",
        " \n",
        "plt.figure(figsize=(15,8))\n",
        "sns.countplot(wildlife_tracker['year'],hue=wildlife_tracker['success'])"
      ],
      "metadata": {
        "colab": {
          "base_uri": "https://localhost:8080/",
          "height": 569
        },
        "id": "FDfMNie3R3d-",
        "outputId": "02ed118a-99dd-49ac-eb8f-41fe565c1434"
      },
      "execution_count": 623,
      "outputs": [
        {
          "output_type": "stream",
          "name": "stderr",
          "text": [
            "/usr/local/lib/python3.7/dist-packages/seaborn/_decorators.py:43: FutureWarning: Pass the following variable as a keyword arg: x. From version 0.12, the only valid positional argument will be `data`, and passing other arguments without an explicit keyword will result in an error or misinterpretation.\n",
            "  FutureWarning\n"
          ]
        },
        {
          "output_type": "execute_result",
          "data": {
            "text/plain": [
              "<matplotlib.axes._subplots.AxesSubplot at 0x7fecdf1cf4d0>"
            ]
          },
          "metadata": {},
          "execution_count": 623
        },
        {
          "output_type": "display_data",
          "data": {
            "text/plain": [
              "<Figure size 1080x576 with 1 Axes>"
            ],
            "image/png": "[encoded data removed]"
          },
          "metadata": {
            "needs_background": "light"
          }
        }
      ]
    },
    {
      "cell_type": "code",
      "source": [
        "# Location hue on success rates\n",
        " \n",
        "plt.figure(figsize=(15,8))\n",
        "sns.countplot(wildlife_tracker['location'],hue=wildlife_tracker['success'])"
      ],
      "metadata": {
        "colab": {
          "base_uri": "https://localhost:8080/",
          "height": 569
        },
        "id": "Khp1JkwKR3jH",
        "outputId": "8c40bcb1-9726-41bf-b696-64775aad8bc2"
      },
      "execution_count": 624,
      "outputs": [
        {
          "output_type": "stream",
          "name": "stderr",
          "text": [
            "/usr/local/lib/python3.7/dist-packages/seaborn/_decorators.py:43: FutureWarning: Pass the following variable as a keyword arg: x. From version 0.12, the only valid positional argument will be `data`, and passing other arguments without an explicit keyword will result in an error or misinterpretation.\n",
            "  FutureWarning\n"
          ]
        },
        {
          "output_type": "execute_result",
          "data": {
            "text/plain": [
              "<matplotlib.axes._subplots.AxesSubplot at 0x7fecdeecef10>"
            ]
          },
          "metadata": {},
          "execution_count": 624
        },
        {
          "output_type": "display_data",
          "data": {
            "text/plain": [
              "<Figure size 1080x576 with 1 Axes>"
            ],
            "image/png": "[encoded data removed]"
          },
          "metadata": {
            "needs_background": "light"
          }
        }
      ]
    },
    {
      "cell_type": "code",
      "source": [
        "# Route hue on success rates\n",
        " \n",
        "plt.figure(figsize=(15,8))\n",
        "sns.countplot(wildlife_tracker['route'],hue=wildlife_tracker['success'])"
      ],
      "metadata": {
        "colab": {
          "base_uri": "https://localhost:8080/",
          "height": 569
        },
        "id": "JrJZENHS42fW",
        "outputId": "73cf3a7e-d7b0-46b4-c93a-85b904172655"
      },
      "execution_count": 625,
      "outputs": [
        {
          "output_type": "stream",
          "name": "stderr",
          "text": [
            "/usr/local/lib/python3.7/dist-packages/seaborn/_decorators.py:43: FutureWarning: Pass the following variable as a keyword arg: x. From version 0.12, the only valid positional argument will be `data`, and passing other arguments without an explicit keyword will result in an error or misinterpretation.\n",
            "  FutureWarning\n"
          ]
        },
        {
          "output_type": "execute_result",
          "data": {
            "text/plain": [
              "<matplotlib.axes._subplots.AxesSubplot at 0x7fecdf620d90>"
            ]
          },
          "metadata": {},
          "execution_count": 625
        },
        {
          "output_type": "display_data",
          "data": {
            "text/plain": [
              "<Figure size 1080x576 with 1 Axes>"
            ],
            "image/png": "[encoded data removed]"
          },
          "metadata": {
            "needs_background": "light"
          }
        }
      ]
    },
    {
      "cell_type": "code",
      "source": [
        "# Weekend hue on success rates\n",
        " \n",
        "plt.figure(figsize=(15,8))\n",
        "sns.countplot(wildlife_tracker['date_is_weekend'],hue=wildlife_tracker['success'])"
      ],
      "metadata": {
        "colab": {
          "base_uri": "https://localhost:8080/",
          "height": 570
        },
        "id": "86OsWayV437i",
        "outputId": "ecf5bf32-75d6-4051-ca4c-c3cc1fa2474b"
      },
      "execution_count": 626,
      "outputs": [
        {
          "output_type": "stream",
          "name": "stderr",
          "text": [
            "/usr/local/lib/python3.7/dist-packages/seaborn/_decorators.py:43: FutureWarning: Pass the following variable as a keyword arg: x. From version 0.12, the only valid positional argument will be `data`, and passing other arguments without an explicit keyword will result in an error or misinterpretation.\n",
            "  FutureWarning\n"
          ]
        },
        {
          "output_type": "execute_result",
          "data": {
            "text/plain": [
              "<matplotlib.axes._subplots.AxesSubplot at 0x7fecdf1b73d0>"
            ]
          },
          "metadata": {},
          "execution_count": 626
        },
        {
          "output_type": "display_data",
          "data": {
            "text/plain": [
              "<Figure size 1080x576 with 1 Axes>"
            ],
            "image/png": "[encoded data removed]"
          },
          "metadata": {
            "needs_background": "light"
          }
        }
      ]
    },
    {
      "cell_type": "markdown",
      "source": [
        "### Numerical"
      ],
      "metadata": {
        "id": "fMr-IjvjppFl"
      }
    },
    {
      "cell_type": "code",
      "source": [
        "# Success rate relation with respond time\n",
        "\n",
        "plt.figure(figsize=(15,8))\n",
        "sns.distplot(wildlife_tracker[wildlife_tracker['success']=='no']['response_time_difference'])\n",
        "sns.distplot(wildlife_tracker[wildlife_tracker['success']=='yes']['response_time_difference'])"
      ],
      "metadata": {
        "colab": {
          "base_uri": "https://localhost:8080/",
          "height": 605
        },
        "id": "-p8101hOpsI0",
        "outputId": "6ffd69c5-3a15-4fa0-e254-52f8b63de08d"
      },
      "execution_count": 627,
      "outputs": [
        {
          "output_type": "stream",
          "name": "stderr",
          "text": [
            "/usr/local/lib/python3.7/dist-packages/seaborn/distributions.py:2619: FutureWarning: `distplot` is a deprecated function and will be removed in a future version. Please adapt your code to use either `displot` (a figure-level function with similar flexibility) or `histplot` (an axes-level function for histograms).\n",
            "  warnings.warn(msg, FutureWarning)\n",
            "/usr/local/lib/python3.7/dist-packages/seaborn/distributions.py:2619: FutureWarning: `distplot` is a deprecated function and will be removed in a future version. Please adapt your code to use either `displot` (a figure-level function with similar flexibility) or `histplot` (an axes-level function for histograms).\n",
            "  warnings.warn(msg, FutureWarning)\n"
          ]
        },
        {
          "output_type": "execute_result",
          "data": {
            "text/plain": [
              "<matplotlib.axes._subplots.AxesSubplot at 0x7fece15ac1d0>"
            ]
          },
          "metadata": {},
          "execution_count": 627
        },
        {
          "output_type": "display_data",
          "data": {
            "text/plain": [
              "<Figure size 1080x576 with 1 Axes>"
            ],
            "image/png": "[encoded data removed]"
          },
          "metadata": {
            "needs_background": "light"
          }
        }
      ]
    },
    {
      "cell_type": "markdown",
      "source": [
        "## Converting Categorical Features "
      ],
      "metadata": {
        "id": "BbYexS1QqkpG"
      }
    },
    {
      "cell_type": "markdown",
      "source": [
        "# Classification"
      ],
      "metadata": {
        "id": "HDO3NnFusabL"
      }
    },
    {
      "cell_type": "code",
      "source": [
        "# input features\n",
        "\n",
        "f = pd.get_dummies(data = wildlife_tracker, columns = ['animal_type', 'location', 'route'],drop_first=True) # Applying categorical encoding\n",
        "features = f.drop(['scientific_name', 'average_lifespan' , 'request_time', 'help_center_response_time', 'request_udapte_time', 'year', 'success'], axis=1)\n",
        "features.head()"
      ],
      "metadata": {
        "colab": {
          "base_uri": "https://localhost:8080/",
          "height": 287
        },
        "id": "_vXNDLn6RCZy",
        "outputId": "49f2b2bc-db7a-4d94-dbf4-36adb331a523"
      },
      "execution_count": 628,
      "outputs": [
        {
          "output_type": "execute_result",
          "data": {
            "text/plain": [
              "  date_is_weekend  response_time_difference  animal_type_Dog  animal_type_Fox  \\\n",
              "0               1                  0.283333                1                0   \n",
              "1               1                  0.566667                0                0   \n",
              "2               0                 24.000000                0                0   \n",
              "3               0                  0.150000                0                0   \n",
              "4               0                  0.500000                0                1   \n",
              "\n",
              "   animal_type_Hawk  animal_type_Lizard  animal_type_Tiger  \\\n",
              "0                 0                   0                  0   \n",
              "1                 0                   0                  0   \n",
              "2                 1                   0                  0   \n",
              "3                 0                   0                  0   \n",
              "4                 0                   0                  0   \n",
              "\n",
              "   animal_type_White-tailed Eagle  location_Chittagong  location_Dhaka  \\\n",
              "0                               0                    0               1   \n",
              "1                               0                    1               0   \n",
              "2                               0                    0               0   \n",
              "3                               1                    0               0   \n",
              "4                               0                    0               0   \n",
              "\n",
              "   location_Khulna  location_Sylhet  route_Chondon - Baisha Rd  \\\n",
              "0                0                0                          0   \n",
              "1                0                0                          0   \n",
              "2                1                0                          0   \n",
              "3                0                0                          0   \n",
              "4                0                1                          1   \n",
              "\n",
              "   route_Gohail Rd  route_Matidali - Dhorompur Rd  route_Uposhohor Rd  \n",
              "0                0                              0                   0  \n",
              "1                0                              0                   1  \n",
              "2                1                              0                   0  \n",
              "3                0                              1                   0  \n",
              "4                0                              0                   0  "
            ],
            "text/html": [
              "\n",
              "  <div id=\"df-fdf1e68c-6d14-4e9c-9ea4-04f46c6015d8\">\n",
              "    <div class=\"colab-df-container\">\n",
              "      <div>\n",
              "<style scoped>\n",
              "    .dataframe tbody tr th:only-of-type {\n",
              "        vertical-align: middle;\n",
              "    }\n",
              "\n",
              "    .dataframe tbody tr th {\n",
              "        vertical-align: top;\n",
              "    }\n",
              "\n",
              "    .dataframe thead th {\n",
              "        text-align: right;\n",
              "    }\n",
              "</style>\n",
              "<table border=\"1\" class=\"dataframe\">\n",
              "  <thead>\n",
              "    <tr style=\"text-align: right;\">\n",
              "      <th></th>\n",
              "      <th>date_is_weekend</th>\n",
              "      <th>response_time_difference</th>\n",
              "      <th>animal_type_Dog</th>\n",
              "      <th>animal_type_Fox</th>\n",
              "      <th>animal_type_Hawk</th>\n",
              "      <th>animal_type_Lizard</th>\n",
              "      <th>animal_type_Tiger</th>\n",
              "      <th>animal_type_White-tailed Eagle</th>\n",
              "      <th>location_Chittagong</th>\n",
              "      <th>location_Dhaka</th>\n",
              "      <th>location_Khulna</th>\n",
              "      <th>location_Sylhet</th>\n",
              "      <th>route_Chondon - Baisha Rd</th>\n",
              "      <th>route_Gohail Rd</th>\n",
              "      <th>route_Matidali - Dhorompur Rd</th>\n",
              "      <th>route_Uposhohor Rd</th>\n",
              "    </tr>\n",
              "  </thead>\n",
              "  <tbody>\n",
              "    <tr>\n",
              "      <th>0</th>\n",
              "      <td>1</td>\n",
              "      <td>0.283333</td>\n",
              "      <td>1</td>\n",
              "      <td>0</td>\n",
              "      <td>0</td>\n",
              "      <td>0</td>\n",
              "      <td>0</td>\n",
              "      <td>0</td>\n",
              "      <td>0</td>\n",
              "      <td>1</td>\n",
              "      <td>0</td>\n",
              "      <td>0</td>\n",
              "      <td>0</td>\n",
              "      <td>0</td>\n",
              "      <td>0</td>\n",
              "      <td>0</td>\n",
              "    </tr>\n",
              "    <tr>\n",
              "      <th>1</th>\n",
              "      <td>1</td>\n",
              "      <td>0.566667</td>\n",
              "      <td>0</td>\n",
              "      <td>0</td>\n",
              "      <td>0</td>\n",
              "      <td>0</td>\n",
              "      <td>0</td>\n",
              "      <td>0</td>\n",
              "      <td>1</td>\n",
              "      <td>0</td>\n",
              "      <td>0</td>\n",
              "      <td>0</td>\n",
              "      <td>0</td>\n",
              "      <td>0</td>\n",
              "      <td>0</td>\n",
              "      <td>1</td>\n",
              "    </tr>\n",
              "    <tr>\n",
              "      <th>2</th>\n",
              "      <td>0</td>\n",
              "      <td>24.000000</td>\n",
              "      <td>0</td>\n",
              "      <td>0</td>\n",
              "      <td>1</td>\n",
              "      <td>0</td>\n",
              "      <td>0</td>\n",
              "      <td>0</td>\n",
              "      <td>0</td>\n",
              "      <td>0</td>\n",
              "      <td>1</td>\n",
              "      <td>0</td>\n",
              "      <td>0</td>\n",
              "      <td>1</td>\n",
              "      <td>0</td>\n",
              "      <td>0</td>\n",
              "    </tr>\n",
              "    <tr>\n",
              "      <th>3</th>\n",
              "      <td>0</td>\n",
              "      <td>0.150000</td>\n",
              "      <td>0</td>\n",
              "      <td>0</td>\n",
              "      <td>0</td>\n",
              "      <td>0</td>\n",
              "      <td>0</td>\n",
              "      <td>1</td>\n",
              "      <td>0</td>\n",
              "      <td>0</td>\n",
              "      <td>0</td>\n",
              "      <td>0</td>\n",
              "      <td>0</td>\n",
              "      <td>0</td>\n",
              "      <td>1</td>\n",
              "      <td>0</td>\n",
              "    </tr>\n",
              "    <tr>\n",
              "      <th>4</th>\n",
              "      <td>0</td>\n",
              "      <td>0.500000</td>\n",
              "      <td>0</td>\n",
              "      <td>1</td>\n",
              "      <td>0</td>\n",
              "      <td>0</td>\n",
              "      <td>0</td>\n",
              "      <td>0</td>\n",
              "      <td>0</td>\n",
              "      <td>0</td>\n",
              "      <td>0</td>\n",
              "      <td>1</td>\n",
              "      <td>1</td>\n",
              "      <td>0</td>\n",
              "      <td>0</td>\n",
              "      <td>0</td>\n",
              "    </tr>\n",
              "  </tbody>\n",
              "</table>\n",
              "</div>\n",
              "      <button class=\"colab-df-convert\" onclick=\"convertToInteractive('df-fdf1e68c-6d14-4e9c-9ea4-04f46c6015d8')\"\n",
              "              title=\"Convert this dataframe to an interactive table.\"\n",
              "              style=\"display:none;\">\n",
              "        \n",
              "  <svg xmlns=\"http://www.w3.org/2000/svg\" height=\"24px\"viewBox=\"0 0 24 24\"\n",
              "       width=\"24px\">\n",
              "    <path d=\"M0 0h24v24H0V0z\" fill=\"none\"/>\n",
              "    <path d=\"M18.56 5.44l.94 2.06.94-2.06 2.06-.94-2.06-.94-.94-2.06-.94 2.06-2.06.94zm-11 1L8.5 8.5l.94-2.06 2.06-.94-2.06-.94L8.5 2.5l-.94 2.06-2.06.94zm10 10l.94 2.06.94-2.06 2.06-.94-2.06-.94-.94-2.06-.94 2.06-2.06.94z\"/><path d=\"M17.41 7.96l-1.37-1.37c-.4-.4-.92-.59-1.43-.59-.52 0-1.04.2-1.43.59L10.3 9.45l-7.72 7.72c-.78.78-.78 2.05 0 2.83L4 21.41c.39.39.9.59 1.41.59.51 0 1.02-.2 1.41-.59l7.78-7.78 2.81-2.81c.8-.78.8-2.07 0-2.86zM5.41 20L4 18.59l7.72-7.72 1.47 1.35L5.41 20z\"/>\n",
              "  </svg>\n",
              "      </button>\n",
              "      \n",
              "  <style>\n",
              "    .colab-df-container {\n",
              "      display:flex;\n",
              "      flex-wrap:wrap;\n",
              "      gap: 12px;\n",
              "    }\n",
              "\n",
              "    .colab-df-convert {\n",
              "      background-color: #E8F0FE;\n",
              "      border: none;\n",
              "      border-radius: 50%;\n",
              "      cursor: pointer;\n",
              "      display: none;\n",
              "      fill: #1967D2;\n",
              "      height: 32px;\n",
              "      padding: 0 0 0 0;\n",
              "      width: 32px;\n",
              "    }\n",
              "\n",
              "    .colab-df-convert:hover {\n",
              "      background-color: #E2EBFA;\n",
              "      box-shadow: 0px 1px 2px rgba(60, 64, 67, 0.3), 0px 1px 3px 1px rgba(60, 64, 67, 0.15);\n",
              "      fill: #174EA6;\n",
              "    }\n",
              "\n",
              "    [theme=dark] .colab-df-convert {\n",
              "      background-color: #3B4455;\n",
              "      fill: #D2E3FC;\n",
              "    }\n",
              "\n",
              "    [theme=dark] .colab-df-convert:hover {\n",
              "      background-color: #434B5C;\n",
              "      box-shadow: 0px 1px 3px 1px rgba(0, 0, 0, 0.15);\n",
              "      filter: drop-shadow(0px 1px 2px rgba(0, 0, 0, 0.3));\n",
              "      fill: #FFFFFF;\n",
              "    }\n",
              "  </style>\n",
              "\n",
              "      <script>\n",
              "        const buttonEl =\n",
              "          document.querySelector('#df-fdf1e68c-6d14-4e9c-9ea4-04f46c6015d8 button.colab-df-convert');\n",
              "        buttonEl.style.display =\n",
              "          google.colab.kernel.accessAllowed ? 'block' : 'none';\n",
              "\n",
              "        async function convertToInteractive(key) {\n",
              "          const element = document.querySelector('#df-fdf1e68c-6d14-4e9c-9ea4-04f46c6015d8');\n",
              "          const dataTable =\n",
              "            await google.colab.kernel.invokeFunction('convertToInteractive',\n",
              "                                                     [key], {});\n",
              "          if (!dataTable) return;\n",
              "\n",
              "          const docLinkHtml = 'Like what you see? Visit the ' +\n",
              "            '<a target=\"_blank\" href=https://colab.research.google.com/notebooks/data_table.ipynb>data table notebook</a>'\n",
              "            + ' to learn more about interactive tables.';\n",
              "          element.innerHTML = '';\n",
              "          dataTable['output_type'] = 'display_data';\n",
              "          await google.colab.output.renderOutput(dataTable, element);\n",
              "          const docLink = document.createElement('div');\n",
              "          docLink.innerHTML = docLinkHtml;\n",
              "          element.appendChild(docLink);\n",
              "        }\n",
              "      </script>\n",
              "    </div>\n",
              "  </div>\n",
              "  "
            ]
          },
          "metadata": {},
          "execution_count": 628
        }
      ]
    },
    {
      "cell_type": "code",
      "source": [
        "x = features # Collection of features\n",
        "y = wildlife_tracker['success'] # Target or the labels to predict"
      ],
      "metadata": {
        "id": "Qz9y0hK5RCey"
      },
      "execution_count": 629,
      "outputs": []
    },
    {
      "cell_type": "code",
      "source": [
        "# Generating numerical target columns\n",
        "\n",
        "from sklearn.preprocessing import LabelEncoder \n",
        "le = LabelEncoder()\n",
        "y = le.fit_transform(y)"
      ],
      "metadata": {
        "id": "9xa3W4lYRCir"
      },
      "execution_count": 630,
      "outputs": []
    },
    {
      "cell_type": "code",
      "source": [
        "# Train & Test dataset split\n",
        "\n",
        "from sklearn.model_selection import train_test_split\n",
        "from sklearn.model_selection import cross_val_score\n",
        "from sklearn import metrics\n",
        "\n",
        "x_train, x_test, y_train, y_test = train_test_split(x,y,random_state =7)"
      ],
      "metadata": {
        "id": "HU8BFMtORCmk"
      },
      "execution_count": 631,
      "outputs": []
    },
    {
      "cell_type": "markdown",
      "source": [
        "## Pipeline"
      ],
      "metadata": {
        "id": "7e2Zg2pvvN_2"
      }
    },
    {
      "cell_type": "code",
      "source": [
        "# Logistic Regression\n",
        "\n",
        "from sklearn.linear_model import LogisticRegression\n",
        "from sklearn.metrics import classification_report\n",
        "LR = LogisticRegression(random_state=0)\n",
        "LR.fit(x_train,y_train)\n",
        "y_pred = LR.predict(x_test)\n",
        "metrics.plot_confusion_matrix(LR,x_test, y_test)\n",
        "plt.show()\n",
        "print(classification_report(y_test, y_pred))"
      ],
      "metadata": {
        "colab": {
          "base_uri": "https://localhost:8080/",
          "height": 494
        },
        "id": "G-Bj2VpfvNLj",
        "outputId": "206d0f89-c542-46d6-fcfd-6c893ebc8ceb"
      },
      "execution_count": 632,
      "outputs": [
        {
          "output_type": "stream",
          "name": "stderr",
          "text": [
            "/usr/local/lib/python3.7/dist-packages/sklearn/utils/deprecation.py:87: FutureWarning: Function plot_confusion_matrix is deprecated; Function `plot_confusion_matrix` is deprecated in 1.0 and will be removed in 1.2. Use one of the class methods: ConfusionMatrixDisplay.from_predictions or ConfusionMatrixDisplay.from_estimator.\n",
            "  warnings.warn(msg, category=FutureWarning)\n"
          ]
        },
        {
          "output_type": "display_data",
          "data": {
            "text/plain": [
              "<Figure size 432x288 with 2 Axes>"
            ],
            "image/png": "[encoded data removed]"
          },
          "metadata": {
            "needs_background": "light"
          }
        },
        {
          "output_type": "stream",
          "name": "stdout",
          "text": [
            "              precision    recall  f1-score   support\n",
            "\n",
            "           0       0.40      0.50      0.44         4\n",
            "           1       0.75      0.67      0.71         9\n",
            "\n",
            "    accuracy                           0.62        13\n",
            "   macro avg       0.57      0.58      0.58        13\n",
            "weighted avg       0.64      0.62      0.63        13\n",
            "\n"
          ]
        }
      ]
    },
    {
      "cell_type": "code",
      "source": [
        "# K-Nearest Neighbors Classifier\n",
        "\n",
        "from sklearn.neighbors import KNeighborsClassifier\n",
        "from sklearn.metrics import classification_report\n",
        "knnclassifier = KNeighborsClassifier(n_neighbors=3)\n",
        "knnclassifier.fit(x_train,y_train)\n",
        "y_pred = knnclassifier.predict(x_test)\n",
        "metrics.plot_confusion_matrix(knnclassifier,x_test, y_test)\n",
        "plt.show()\n",
        "print(classification_report(y_test, y_pred))"
      ],
      "metadata": {
        "colab": {
          "base_uri": "https://localhost:8080/",
          "height": 494
        },
        "id": "DGmGlbDjz7Vh",
        "outputId": "1d10a07a-4958-4f9b-effb-a999c32c11fb"
      },
      "execution_count": 633,
      "outputs": [
        {
          "output_type": "stream",
          "name": "stderr",
          "text": [
            "/usr/local/lib/python3.7/dist-packages/sklearn/utils/deprecation.py:87: FutureWarning: Function plot_confusion_matrix is deprecated; Function `plot_confusion_matrix` is deprecated in 1.0 and will be removed in 1.2. Use one of the class methods: ConfusionMatrixDisplay.from_predictions or ConfusionMatrixDisplay.from_estimator.\n",
            "  warnings.warn(msg, category=FutureWarning)\n"
          ]
        },
        {
          "output_type": "display_data",
          "data": {
            "text/plain": [
              "<Figure size 432x288 with 2 Axes>"
            ],
            "image/png": "[encoded data removed]"
          },
          "metadata": {
            "needs_background": "light"
          }
        },
        {
          "output_type": "stream",
          "name": "stdout",
          "text": [
            "              precision    recall  f1-score   support\n",
            "\n",
            "           0       1.00      1.00      1.00         4\n",
            "           1       1.00      1.00      1.00         9\n",
            "\n",
            "    accuracy                           1.00        13\n",
            "   macro avg       1.00      1.00      1.00        13\n",
            "weighted avg       1.00      1.00      1.00        13\n",
            "\n"
          ]
        }
      ]
    },
    {
      "cell_type": "code",
      "source": [
        "# Decision Tree Classifier\n",
        "\n",
        "from sklearn.tree import DecisionTreeClassifier\n",
        "DT = DecisionTreeClassifier(random_state=7)\n",
        "DT.fit(x_train,y_train)\n",
        "y_pred = DT.predict(x_test)\n",
        "metrics.plot_confusion_matrix(DT,x_test, y_test)\n",
        "plt.show()\n",
        "print(classification_report(y_test, y_pred))"
      ],
      "metadata": {
        "colab": {
          "base_uri": "https://localhost:8080/",
          "height": 494
        },
        "id": "HCAqRlMh3azD",
        "outputId": "3c9ac2b4-04dd-4876-eb32-a93593dea939"
      },
      "execution_count": 634,
      "outputs": [
        {
          "output_type": "stream",
          "name": "stderr",
          "text": [
            "/usr/local/lib/python3.7/dist-packages/sklearn/utils/deprecation.py:87: FutureWarning: Function plot_confusion_matrix is deprecated; Function `plot_confusion_matrix` is deprecated in 1.0 and will be removed in 1.2. Use one of the class methods: ConfusionMatrixDisplay.from_predictions or ConfusionMatrixDisplay.from_estimator.\n",
            "  warnings.warn(msg, category=FutureWarning)\n"
          ]
        },
        {
          "output_type": "display_data",
          "data": {
            "text/plain": [
              "<Figure size 432x288 with 2 Axes>"
            ],
            "image/png": "[encoded data removed]"
          },
          "metadata": {
            "needs_background": "light"
          }
        },
        {
          "output_type": "stream",
          "name": "stdout",
          "text": [
            "              precision    recall  f1-score   support\n",
            "\n",
            "           0       1.00      1.00      1.00         4\n",
            "           1       1.00      1.00      1.00         9\n",
            "\n",
            "    accuracy                           1.00        13\n",
            "   macro avg       1.00      1.00      1.00        13\n",
            "weighted avg       1.00      1.00      1.00        13\n",
            "\n"
          ]
        }
      ]
    },
    {
      "cell_type": "code",
      "source": [
        "# Random Forest Classifier\n",
        "\n",
        "from sklearn.ensemble import RandomForestClassifier\n",
        "RF = RandomForestClassifier()\n",
        "RF.fit(x_train,y_train)\n",
        "y_pred = RF.predict(x_test)\n",
        "metrics.plot_confusion_matrix(RF,x_test, y_test)\n",
        "plt.show()\n",
        "print(classification_report(y_test, y_pred))"
      ],
      "metadata": {
        "colab": {
          "base_uri": "https://localhost:8080/",
          "height": 494
        },
        "id": "bZTdhGey1u5y",
        "outputId": "34134073-eaf7-4080-bb6d-f80f378e83e9"
      },
      "execution_count": 635,
      "outputs": [
        {
          "output_type": "stream",
          "name": "stderr",
          "text": [
            "/usr/local/lib/python3.7/dist-packages/sklearn/utils/deprecation.py:87: FutureWarning: Function plot_confusion_matrix is deprecated; Function `plot_confusion_matrix` is deprecated in 1.0 and will be removed in 1.2. Use one of the class methods: ConfusionMatrixDisplay.from_predictions or ConfusionMatrixDisplay.from_estimator.\n",
            "  warnings.warn(msg, category=FutureWarning)\n"
          ]
        },
        {
          "output_type": "display_data",
          "data": {
            "text/plain": [
              "<Figure size 432x288 with 2 Axes>"
            ],
            "image/png": "[encoded data removed]"
          },
          "metadata": {
            "needs_background": "light"
          }
        },
        {
          "output_type": "stream",
          "name": "stdout",
          "text": [
            "              precision    recall  f1-score   support\n",
            "\n",
            "           0       1.00      1.00      1.00         4\n",
            "           1       1.00      1.00      1.00         9\n",
            "\n",
            "    accuracy                           1.00        13\n",
            "   macro avg       1.00      1.00      1.00        13\n",
            "weighted avg       1.00      1.00      1.00        13\n",
            "\n"
          ]
        }
      ]
    },
    {
      "cell_type": "code",
      "source": [
        "# Support Vector Classifier\n",
        "\n",
        "from sklearn.svm import LinearSVC\n",
        "SVC = LinearSVC()\n",
        "SVC.fit(x_train,y_train)\n",
        "y_pred = SVC.predict(x_test)\n",
        "metrics.plot_confusion_matrix(SVC,x_test, y_test)\n",
        "plt.show()\n",
        "print(classification_report(y_test, y_pred))"
      ],
      "metadata": {
        "colab": {
          "base_uri": "https://localhost:8080/",
          "height": 529
        },
        "id": "PlMjDtnm2N0x",
        "outputId": "4f46acd8-57e9-4867-9238-8365a3d5d298"
      },
      "execution_count": 636,
      "outputs": [
        {
          "output_type": "stream",
          "name": "stderr",
          "text": [
            "/usr/local/lib/python3.7/dist-packages/sklearn/svm/_base.py:1208: ConvergenceWarning: Liblinear failed to converge, increase the number of iterations.\n",
            "  ConvergenceWarning,\n",
            "/usr/local/lib/python3.7/dist-packages/sklearn/utils/deprecation.py:87: FutureWarning: Function plot_confusion_matrix is deprecated; Function `plot_confusion_matrix` is deprecated in 1.0 and will be removed in 1.2. Use one of the class methods: ConfusionMatrixDisplay.from_predictions or ConfusionMatrixDisplay.from_estimator.\n",
            "  warnings.warn(msg, category=FutureWarning)\n"
          ]
        },
        {
          "output_type": "display_data",
          "data": {
            "text/plain": [
              "<Figure size 432x288 with 2 Axes>"
            ],
            "image/png": "[encoded data removed]"
          },
          "metadata": {
            "needs_background": "light"
          }
        },
        {
          "output_type": "stream",
          "name": "stdout",
          "text": [
            "              precision    recall  f1-score   support\n",
            "\n",
            "           0       0.00      0.00      0.00         4\n",
            "           1       0.64      0.78      0.70         9\n",
            "\n",
            "    accuracy                           0.54        13\n",
            "   macro avg       0.32      0.39      0.35        13\n",
            "weighted avg       0.44      0.54      0.48        13\n",
            "\n"
          ]
        }
      ]
    },
    {
      "cell_type": "code",
      "source": [
        "# Gaussian Naive Bayes Classifier\n",
        "\n",
        "from sklearn.naive_bayes import GaussianNB\n",
        "GNB = GaussianNB()\n",
        "GNB.fit(x_train,y_train)\n",
        "y_pred = GNB.predict(x_test)\n",
        "metrics.plot_confusion_matrix(GNB,x_test, y_test)\n",
        "plt.show()\n",
        "print(classification_report(y_test, y_pred))"
      ],
      "metadata": {
        "colab": {
          "base_uri": "https://localhost:8080/",
          "height": 494
        },
        "id": "Tj4ZG6HR26Ac",
        "outputId": "baa446ea-40af-45d4-913c-1ca977506515"
      },
      "execution_count": 637,
      "outputs": [
        {
          "output_type": "stream",
          "name": "stderr",
          "text": [
            "/usr/local/lib/python3.7/dist-packages/sklearn/utils/deprecation.py:87: FutureWarning: Function plot_confusion_matrix is deprecated; Function `plot_confusion_matrix` is deprecated in 1.0 and will be removed in 1.2. Use one of the class methods: ConfusionMatrixDisplay.from_predictions or ConfusionMatrixDisplay.from_estimator.\n",
            "  warnings.warn(msg, category=FutureWarning)\n"
          ]
        },
        {
          "output_type": "display_data",
          "data": {
            "text/plain": [
              "<Figure size 432x288 with 2 Axes>"
            ],
            "image/png": "[encoded data removed]"
          },
          "metadata": {
            "needs_background": "light"
          }
        },
        {
          "output_type": "stream",
          "name": "stdout",
          "text": [
            "              precision    recall  f1-score   support\n",
            "\n",
            "           0       0.43      0.75      0.55         4\n",
            "           1       0.83      0.56      0.67         9\n",
            "\n",
            "    accuracy                           0.62        13\n",
            "   macro avg       0.63      0.65      0.61        13\n",
            "weighted avg       0.71      0.62      0.63        13\n",
            "\n"
          ]
        }
      ]
    },
    {
      "cell_type": "markdown",
      "source": [
        "## Evaluating & Comparing Models"
      ],
      "metadata": {
        "id": "MSa89vn83kUT"
      }
    },
    {
      "cell_type": "code",
      "source": [
        "# Classifiers\n",
        "\n",
        "names = [\"LR\", \"knnclassifier\", \"DT\", \"RF\", \"SVC\", \"GNB\"]\n",
        "\n",
        "classifiers = [\n",
        "    LogisticRegression(random_state=0),           \n",
        "    KNeighborsClassifier(n_neighbors=3),\n",
        "    DecisionTreeClassifier(random_state=7),\n",
        "    RandomForestClassifier(),\n",
        "    LinearSVC(),\n",
        "    GaussianNB()]  "
      ],
      "metadata": {
        "id": "DHvhDzIL3oQs"
      },
      "execution_count": 638,
      "outputs": []
    },
    {
      "cell_type": "code",
      "source": [
        "from sklearn.metrics import accuracy_score\n",
        "\n",
        "scores = [] # Load accuracy score\n",
        "\n",
        "for name, clf in zip(names, classifiers):\n",
        "    clf.fit(x_train, y_train)\n",
        "    y_pred = clf.predict(x_test)\n",
        "    validation_score = metrics.accuracy_score(y_test, y_pred)\n",
        "    scores.append(validation_score)"
      ],
      "metadata": {
        "colab": {
          "base_uri": "https://localhost:8080/"
        },
        "id": "S6Ndrwk_3jkE",
        "outputId": "d3e90d8e-e074-4d6c-c8bf-1e66aeee055e"
      },
      "execution_count": 639,
      "outputs": [
        {
          "output_type": "stream",
          "name": "stderr",
          "text": [
            "/usr/local/lib/python3.7/dist-packages/sklearn/svm/_base.py:1208: ConvergenceWarning: Liblinear failed to converge, increase the number of iterations.\n",
            "  ConvergenceWarning,\n"
          ]
        }
      ]
    },
    {
      "cell_type": "code",
      "source": [
        "# Load data into data frame\n",
        "\n",
        "df = pd.DataFrame()\n",
        "df['name'] = names\n",
        "df['validation_score'] = scores"
      ],
      "metadata": {
        "id": "WOOrWK7B15zV"
      },
      "execution_count": 640,
      "outputs": []
    },
    {
      "cell_type": "code",
      "source": [
        "# Visualizing accuracy score\n",
        "\n",
        "cm = sns.light_palette(\"green\", as_cmap=True)\n",
        "s = df.style.background_gradient(cmap=cm)\n",
        "s"
      ],
      "metadata": {
        "colab": {
          "base_uri": "https://localhost:8080/",
          "height": 237
        },
        "id": "A1M96xGJ5wQ3",
        "outputId": "7ff61b66-570f-4af3-df1e-77881477c459"
      },
      "execution_count": 641,
      "outputs": [
        {
          "output_type": "execute_result",
          "data": {
            "text/plain": [
              "<pandas.io.formats.style.Styler at 0x7fecdf87fc10>"
            ],
            "text/html": [
              "<style type=\"text/css\">\n",
              "#T_c252e_row0_col1, #T_c252e_row5_col1 {\n",
              "  background-color: #c4e0c4;\n",
              "  color: #000000;\n",
              "}\n",
              "#T_c252e_row1_col1, #T_c252e_row2_col1, #T_c252e_row3_col1 {\n",
              "  background-color: #008000;\n",
              "  color: #f1f1f1;\n",
              "}\n",
              "#T_c252e_row4_col1 {\n",
              "  background-color: #ebf3eb;\n",
              "  color: #000000;\n",
              "}\n",
              "</style>\n",
              "<table id=\"T_c252e_\" class=\"dataframe\">\n",
              "  <thead>\n",
              "    <tr>\n",
              "      <th class=\"blank level0\" >&nbsp;</th>\n",
              "      <th class=\"col_heading level0 col0\" >name</th>\n",
              "      <th class=\"col_heading level0 col1\" >validation_score</th>\n",
              "    </tr>\n",
              "  </thead>\n",
              "  <tbody>\n",
              "    <tr>\n",
              "      <th id=\"T_c252e_level0_row0\" class=\"row_heading level0 row0\" >0</th>\n",
              "      <td id=\"T_c252e_row0_col0\" class=\"data row0 col0\" >LR</td>\n",
              "      <td id=\"T_c252e_row0_col1\" class=\"data row0 col1\" >0.615385</td>\n",
              "    </tr>\n",
              "    <tr>\n",
              "      <th id=\"T_c252e_level0_row1\" class=\"row_heading level0 row1\" >1</th>\n",
              "      <td id=\"T_c252e_row1_col0\" class=\"data row1 col0\" >knnclassifier</td>\n",
              "      <td id=\"T_c252e_row1_col1\" class=\"data row1 col1\" >1.000000</td>\n",
              "    </tr>\n",
              "    <tr>\n",
              "      <th id=\"T_c252e_level0_row2\" class=\"row_heading level0 row2\" >2</th>\n",
              "      <td id=\"T_c252e_row2_col0\" class=\"data row2 col0\" >DT</td>\n",
              "      <td id=\"T_c252e_row2_col1\" class=\"data row2 col1\" >1.000000</td>\n",
              "    </tr>\n",
              "    <tr>\n",
              "      <th id=\"T_c252e_level0_row3\" class=\"row_heading level0 row3\" >3</th>\n",
              "      <td id=\"T_c252e_row3_col0\" class=\"data row3 col0\" >RF</td>\n",
              "      <td id=\"T_c252e_row3_col1\" class=\"data row3 col1\" >1.000000</td>\n",
              "    </tr>\n",
              "    <tr>\n",
              "      <th id=\"T_c252e_level0_row4\" class=\"row_heading level0 row4\" >4</th>\n",
              "      <td id=\"T_c252e_row4_col0\" class=\"data row4 col0\" >SVC</td>\n",
              "      <td id=\"T_c252e_row4_col1\" class=\"data row4 col1\" >0.538462</td>\n",
              "    </tr>\n",
              "    <tr>\n",
              "      <th id=\"T_c252e_level0_row5\" class=\"row_heading level0 row5\" >5</th>\n",
              "      <td id=\"T_c252e_row5_col0\" class=\"data row5 col0\" >GNB</td>\n",
              "      <td id=\"T_c252e_row5_col1\" class=\"data row5 col1\" >0.615385</td>\n",
              "    </tr>\n",
              "  </tbody>\n",
              "</table>\n"
            ]
          },
          "metadata": {},
          "execution_count": 641
        }
      ]
    }
  ]
}